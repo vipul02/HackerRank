{
 "cells": [
  {
   "cell_type": "code",
   "execution_count": null,
   "metadata": {},
   "outputs": [],
   "source": [
    "# def count_a(s, n):\n",
    "#     i = 0\n",
    "#     s_n = []\n",
    "#     while(i < n):\n",
    "#         for char in 'aba':\n",
    "#             s_n.append(char)\n",
    "#             i += 1\n",
    "#             if i == n:\n",
    "#                 break\n",
    "#     s_n = ''.join(s_n)\n",
    "#     print(s_n)\n",
    "#     return sum([1 for a in s_n if a == 'a'])\n",
    "\n",
    "# Improved (Less complexity)\n",
    "# def count_a(s, n):\n",
    "#     i = 0\n",
    "#     count = 0\n",
    "#     while(i < n):\n",
    "#         for char in 'aba':\n",
    "#             if char == 'a':\n",
    "#                 count += 1\n",
    "#             i += 1\n",
    "#             if i == n:\n",
    "#                 break\n",
    "#     return count\n",
    "\n",
    "# count_a('a', 1000000000000)\n",
    "\n",
    "# The above approach falied at 100000000000000, memory error, timed ou and many more"
   ]
  },
  {
   "cell_type": "code",
   "execution_count": 15,
   "metadata": {},
   "outputs": [
    {
     "name": "stdout",
     "output_type": "stream",
     "text": [
      "6 1\n"
     ]
    }
   ],
   "source": [
    "# approach with very less compplexity and memory usage\n",
    "n = 10\n",
    "s = 'aba'\n",
    "# complete factor be cf, cf is no. of times the whole s will be repeated if multiply by len(s)\n",
    "cf = n//len(s)\n",
    "a = (n//len(s))*s.count('a')\n",
    "b = s[:(n - cf*len(s))].count('a')\n",
    "print(a, b)"
   ]
  },
  {
   "cell_type": "code",
   "execution_count": 16,
   "metadata": {},
   "outputs": [
    {
     "data": {
      "text/plain": [
       "1000000000000"
      ]
     },
     "execution_count": 16,
     "metadata": {},
     "output_type": "execute_result"
    }
   ],
   "source": [
    "def count_a(s, n):\n",
    "    return ( n // len(s) ) * s.count('a') + s[:( n - (n // len(s) * len(s) ) )].count('a')\n",
    "\n",
    "count_a('a', 1000000000000)"
   ]
  },
  {
   "cell_type": "code",
   "execution_count": null,
   "metadata": {},
   "outputs": [],
   "source": []
  }
 ],
 "metadata": {
  "kernelspec": {
   "display_name": "Python 3",
   "language": "python",
   "name": "python3"
  },
  "language_info": {
   "codemirror_mode": {
    "name": "ipython",
    "version": 3
   },
   "file_extension": ".py",
   "mimetype": "text/x-python",
   "name": "python",
   "nbconvert_exporter": "python",
   "pygments_lexer": "ipython3",
   "version": "3.7.0"
  }
 },
 "nbformat": 4,
 "nbformat_minor": 2
}
