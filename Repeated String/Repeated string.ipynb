{
 "cells": [
  {
   "cell_type": "code",
   "execution_count": 9,
   "metadata": {},
   "outputs": [
    {
     "name": "stdout",
     "output_type": "stream",
     "text": [
      "abaabaabaa\n"
     ]
    },
    {
     "data": {
      "text/plain": [
       "7"
      ]
     },
     "execution_count": 9,
     "metadata": {},
     "output_type": "execute_result"
    }
   ],
   "source": [
    "def count_a(s, n):\n",
    "    i = 0\n",
    "    s_n = []\n",
    "    while(i < n):\n",
    "        for char in 'aba':\n",
    "            s_n.append(char)\n",
    "            i += 1\n",
    "            if i == n:\n",
    "                break\n",
    "    s_n = ''.join(s_n)\n",
    "    print(s_n)\n",
    "    return sum([1 for a in s_n if a == 'a'])\n",
    "\n",
    "count_a('aba', 10)"
   ]
  },
  {
   "cell_type": "code",
   "execution_count": null,
   "metadata": {},
   "outputs": [],
   "source": []
  }
 ],
 "metadata": {
  "kernelspec": {
   "display_name": "Python 3",
   "language": "python",
   "name": "python3"
  },
  "language_info": {
   "codemirror_mode": {
    "name": "ipython",
    "version": 3
   },
   "file_extension": ".py",
   "mimetype": "text/x-python",
   "name": "python",
   "nbconvert_exporter": "python",
   "pygments_lexer": "ipython3",
   "version": "3.7.0"
  }
 },
 "nbformat": 4,
 "nbformat_minor": 2
}
