{
 "cells": [
  {
   "cell_type": "code",
   "execution_count": 4,
   "metadata": {},
   "outputs": [
    {
     "data": {
      "text/plain": [
       "3"
      ]
     },
     "execution_count": 4,
     "metadata": {},
     "output_type": "execute_result"
    }
   ],
   "source": [
    "def minJumps(c):\n",
    "    jumps = 0\n",
    "    i = 0\n",
    "    while i < len(c):\n",
    "        if i+2 < len(c) - 1:\n",
    "            if c[i+2] != 1:\n",
    "                i += 2\n",
    "                jumps += 1\n",
    "            else:\n",
    "                i += 1\n",
    "                jumps += 1\n",
    "        else:\n",
    "            jumps += 1\n",
    "            break\n",
    "    return jumps\n",
    "        \n",
    "minJumps([0, 0, 1, 0, 1, 0])"
   ]
  },
  {
   "cell_type": "code",
   "execution_count": null,
   "metadata": {},
   "outputs": [],
   "source": []
  }
 ],
 "metadata": {
  "kernelspec": {
   "display_name": "Python 3",
   "language": "python",
   "name": "python3"
  },
  "language_info": {
   "codemirror_mode": {
    "name": "ipython",
    "version": 3
   },
   "file_extension": ".py",
   "mimetype": "text/x-python",
   "name": "python",
   "nbconvert_exporter": "python",
   "pygments_lexer": "ipython3",
   "version": "3.7.0"
  }
 },
 "nbformat": 4,
 "nbformat_minor": 2
}
