{
 "cells": [
  {
   "cell_type": "code",
   "execution_count": 1,
   "metadata": {},
   "outputs": [
    {
     "name": "stdout",
     "output_type": "stream",
     "text": [
      "4\n"
     ]
    }
   ],
   "source": [
    "# n = int(input())\n",
    "# ar = list(map(int, input().rstrip().split()))\n",
    "\n",
    "socks = [10, 20, 20, 10, 30, 20, 10, 10, 20]\n",
    "colors = list(set(socks))\n",
    "\n",
    "# res = 0\n",
    "# for color in colors:\n",
    "#     temp = 0\n",
    "#     for sock in socks:\n",
    "#         if color == sock:\n",
    "#             temp += 1\n",
    "#     res += temp // 2\n",
    "\n",
    "paired = sum([sum([1 for sock in socks if sock == color])//2 for color in colors])\n",
    "print(paired)"
   ]
  },
  {
   "cell_type": "code",
   "execution_count": null,
   "metadata": {},
   "outputs": [],
   "source": []
  }
 ],
 "metadata": {
  "kernelspec": {
   "display_name": "Python 3",
   "language": "python",
   "name": "python3"
  },
  "language_info": {
   "codemirror_mode": {
    "name": "ipython",
    "version": 3
   },
   "file_extension": ".py",
   "mimetype": "text/x-python",
   "name": "python",
   "nbconvert_exporter": "python",
   "pygments_lexer": "ipython3",
   "version": "3.7.0"
  }
 },
 "nbformat": 4,
 "nbformat_minor": 2
}
