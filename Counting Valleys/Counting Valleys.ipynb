{
 "cells": [
  {
   "cell_type": "markdown",
   "metadata": {},
   "source": [
    "#### E.g.  hikePath = 'UDDDUDUU'"
   ]
  },
  {
   "cell_type": "code",
   "execution_count": 56,
   "metadata": {},
   "outputs": [
    {
     "data": {
      "text/plain": [
       "1"
      ]
     },
     "execution_count": 56,
     "metadata": {},
     "output_type": "execute_result"
    }
   ],
   "source": [
    "def countingValleys(path):\n",
    "    level = 0\n",
    "    valley = 0\n",
    "    for step in path:\n",
    "        if step == 'U':\n",
    "            level += 1\n",
    "            if level == 0:\n",
    "                valley += 1\n",
    "        else:\n",
    "            level -= 1\n",
    "    return valley\n",
    "\n",
    "countingValleys('UDDDUDUU')"
   ]
  },
  {
   "cell_type": "code",
   "execution_count": 54,
   "metadata": {},
   "outputs": [],
   "source": [
    "# Approach 1\n",
    "\n",
    "# hikePath = 'UDDDUDUU'\n",
    "# mountains = 0\n",
    "# valleys = 0\n",
    "# check = 0\n",
    "# flag = 0\n",
    "# for step in hikePath:\n",
    "#     print(step)\n",
    "#     if step == 'U':\n",
    "#         check += 1\n",
    "#     elif step == 'D':\n",
    "#         check -= 1\n",
    "    \n",
    "#     if check > 0 and flag == 0:\n",
    "#         print('Entered Mountain...')\n",
    "#         flag = 1\n",
    "#     elif check < 0 and flag == 0:\n",
    "#         print('Entered Valley...')\n",
    "#         flag = -1\n",
    "#     elif check == 0 and flag == -1:\n",
    "#         print('Out of valley')\n",
    "#         valleys += 1\n",
    "#         flag = 0\n",
    "#     elif check == 0 and flag == 1:\n",
    "#         print('Down of mountain')\n",
    "#         mountains += 1\n",
    "#         flag = 0\n",
    "\n",
    "# print('\\nTopographical Record:\\n' \\\n",
    "#       'Valleys:{}\\n' \\\n",
    "#       'Mountains:{}' \\\n",
    "#       .format(valleys, mountains)\n",
    "#      )\n",
    "\n",
    "# Approach 2\n",
    "# def countingValleys(s):\n",
    "#     valleys = 0\n",
    "#     check = 0\n",
    "#     flag = 0\n",
    "#     for step in s:\n",
    "#         if step == 'U':\n",
    "#             check += 1\n",
    "#         elif step == 'D':\n",
    "#             check -= 1\n",
    "            \n",
    "#         if flag == 0:\n",
    "#             if check > 0:\n",
    "#                 flag = 1\n",
    "#             elif check < 0:\n",
    "#                 flag = -1\n",
    "#         if check == 0:\n",
    "#             if flag == -1:\n",
    "#                 valleys += 1\n",
    "#                 flag = 0\n",
    "#             elif flag == 1:\n",
    "#                 flag = 0\n",
    "#     return valleys\n",
    "\n",
    "# countingValleys('UDDDUDUU')\n",
    "\n",
    "# Approach 3\n",
    "# hikePath = 'UDDDUDUU'\n",
    "# [1 if step == 'U' else -1 if step == 'D' else 0 for step in hikePath]\n",
    "# hikePath = 'UDDDUDUU'\n",
    "# [sum([1 if step == 'U' else -1 if step == 'D' else 0 for step in hikePath[:i+1]]) for i in range(len(hikePath))]"
   ]
  },
  {
   "cell_type": "code",
   "execution_count": null,
   "metadata": {},
   "outputs": [],
   "source": []
  }
 ],
 "metadata": {
  "kernelspec": {
   "display_name": "Python 3",
   "language": "python",
   "name": "python3"
  },
  "language_info": {
   "codemirror_mode": {
    "name": "ipython",
    "version": 3
   },
   "file_extension": ".py",
   "mimetype": "text/x-python",
   "name": "python",
   "nbconvert_exporter": "python",
   "pygments_lexer": "ipython3",
   "version": "3.7.0"
  }
 },
 "nbformat": 4,
 "nbformat_minor": 2
}
