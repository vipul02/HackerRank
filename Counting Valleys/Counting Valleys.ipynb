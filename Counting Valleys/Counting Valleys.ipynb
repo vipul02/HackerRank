{
 "cells": [
  {
   "cell_type": "markdown",
   "metadata": {},
   "source": [
    "#### E.g.  hikePath = 'UDDDUDUU'"
   ]
  },
  {
   "cell_type": "code",
   "execution_count": 9,
   "metadata": {},
   "outputs": [],
   "source": [
    "hikePath = 'DUDUDU'"
   ]
  },
  {
   "cell_type": "code",
   "execution_count": 10,
   "metadata": {},
   "outputs": [
    {
     "name": "stdout",
     "output_type": "stream",
     "text": [
      "D\n",
      "Entered Valley...\n",
      "U\n",
      "Out of valley\n",
      "D\n",
      "Entered Valley...\n",
      "U\n",
      "Out of valley\n",
      "D\n",
      "Entered Valley...\n",
      "U\n",
      "Out of valley\n",
      "\n",
      "Topographical Record:\n",
      "Valleys:3\n",
      "Mountains:0\n"
     ]
    }
   ],
   "source": [
    "mountains = 0\n",
    "valleys = 0\n",
    "check = 0\n",
    "flag = 0\n",
    "for step in hikePath:\n",
    "    print(step)\n",
    "    if step == 'U':\n",
    "        check += 1\n",
    "    elif step == 'D':\n",
    "        check -= 1\n",
    "    \n",
    "    if check > 0 and flag == 0:\n",
    "        print('Entered Mountain...')\n",
    "        flag = 1\n",
    "    elif check < 0 and flag == 0:\n",
    "        print('Entered Valley...')\n",
    "        flag = -1\n",
    "    elif check == 0 and flag == -1:\n",
    "        print('Out of valley')\n",
    "        valleys += 1\n",
    "        flag = 0\n",
    "    elif check == 0 and flag == 1:\n",
    "        print('Down of mountain')\n",
    "        mountains += 1\n",
    "        flag = 0\n",
    "\n",
    "print('\\nTopographical Record:\\n' \\\n",
    "      'Valleys:{}\\n' \\\n",
    "      'Mountains:{}' \\\n",
    "      .format(valleys, mountains)\n",
    "     )"
   ]
  },
  {
   "cell_type": "code",
   "execution_count": 14,
   "metadata": {},
   "outputs": [
    {
     "ename": "TypeError",
     "evalue": "unsupported operand type(s) for -: 'str' and 'int'",
     "output_type": "error",
     "traceback": [
      "\u001b[1;31m---------------------------------------------------------------------------\u001b[0m",
      "\u001b[1;31mTypeError\u001b[0m                                 Traceback (most recent call last)",
      "\u001b[1;32m<ipython-input-14-778bed50916b>\u001b[0m in \u001b[0;36m<module>\u001b[1;34m()\u001b[0m\n\u001b[1;32m----> 1\u001b[1;33m \u001b[1;33m[\u001b[0m\u001b[1;36m1\u001b[0m \u001b[1;32mif\u001b[0m \u001b[0mstep\u001b[0m \u001b[1;33m==\u001b[0m \u001b[1;34m'U'\u001b[0m \u001b[1;32melse\u001b[0m \u001b[0mstep\u001b[0m \u001b[1;33m==\u001b[0m \u001b[1;34m'D'\u001b[0m \u001b[1;33m-\u001b[0m\u001b[1;36m1\u001b[0m \u001b[1;32mfor\u001b[0m \u001b[0mstep\u001b[0m \u001b[1;32min\u001b[0m \u001b[0mhikePath\u001b[0m\u001b[1;33m]\u001b[0m\u001b[1;33m\u001b[0m\u001b[0m\n\u001b[0m",
      "\u001b[1;32m<ipython-input-14-778bed50916b>\u001b[0m in \u001b[0;36m<listcomp>\u001b[1;34m(.0)\u001b[0m\n\u001b[1;32m----> 1\u001b[1;33m \u001b[1;33m[\u001b[0m\u001b[1;36m1\u001b[0m \u001b[1;32mif\u001b[0m \u001b[0mstep\u001b[0m \u001b[1;33m==\u001b[0m \u001b[1;34m'U'\u001b[0m \u001b[1;32melse\u001b[0m \u001b[0mstep\u001b[0m \u001b[1;33m==\u001b[0m \u001b[1;34m'D'\u001b[0m \u001b[1;33m-\u001b[0m\u001b[1;36m1\u001b[0m \u001b[1;32mfor\u001b[0m \u001b[0mstep\u001b[0m \u001b[1;32min\u001b[0m \u001b[0mhikePath\u001b[0m\u001b[1;33m]\u001b[0m\u001b[1;33m\u001b[0m\u001b[0m\n\u001b[0m",
      "\u001b[1;31mTypeError\u001b[0m: unsupported operand type(s) for -: 'str' and 'int'"
     ]
    }
   ],
   "source": [
    "[1 if step == 'U' else step == 'D' -1 for step in hikePath]"
   ]
  },
  {
   "cell_type": "code",
   "execution_count": null,
   "metadata": {},
   "outputs": [],
   "source": [
    "def countingValleys(s):\n",
    "    valleys = 0\n",
    "    checks = [1 if step == 'U' elif step == 'D' -1 for step in s]\n",
    "        if step == 'U':\n",
    "            check += 1\n",
    "        elif step == 'D':\n",
    "            check -= 1\n",
    "            \n",
    "        if flag\n",
    "        if check > 0 and flag == 0:\n",
    "            flag = 1\n",
    "        elif check < 0 and flag == 0:\n",
    "            flag = -1\n",
    "        elif check == 0 and flag == -1:\n",
    "            valleys += 1\n",
    "            flag = 0"
   ]
  }
 ],
 "metadata": {
  "kernelspec": {
   "display_name": "Python 3",
   "language": "python",
   "name": "python3"
  },
  "language_info": {
   "codemirror_mode": {
    "name": "ipython",
    "version": 3
   },
   "file_extension": ".py",
   "mimetype": "text/x-python",
   "name": "python",
   "nbconvert_exporter": "python",
   "pygments_lexer": "ipython3",
   "version": "3.7.0"
  }
 },
 "nbformat": 4,
 "nbformat_minor": 2
}
